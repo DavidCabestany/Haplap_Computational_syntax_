{
 "cells": [
  {
   "cell_type": "code",
   "execution_count": 1,
   "id": "4125972b-ee1a-4ab0-8e28-5a7858db21fe",
   "metadata": {},
   "outputs": [],
   "source": [
    "import nltk\n",
    "from nltk.corpus import brown\n",
    "from nltk import TrigramTagger\n",
    "\n",
    "from sklearn.metrics import confusion_matrix, classification_report\n",
    "import matplotlib.pyplot as plt\n",
    "import numpy as np\n",
    "import itertools\n",
    "\n",
    "def plot_confusion_matrix(cm,\n",
    "                          labels,\n",
    "                          cmap=plt.cm.BuPu):\n",
    "    \"\"\"\n",
    "    This function plots the confusion matrix.\n",
    "    \"\"\"\n",
    "    plt.imshow(cm, interpolation='nearest', cmap=cmap)\n",
    "    x_tick_marks = np.arange(len(labels))\n",
    "    y_tick_marks = np.arange(len(labels))\n",
    "    plt.xticks(x_tick_marks, labels, rotation=45)\n",
    "    plt.yticks(y_tick_marks, labels)\n",
    "    #\n",
    "    thresh = cm.max() / 2.\n",
    "    for i, j in itertools.product(range(cm.shape[0]), range(cm.shape[1])):\n",
    "        plt.text(j, i, \"{}\".format(cm[i, j]),\n",
    "                 horizontalalignment=\"center\",\n",
    "                 color=\"white\" if cm[i, j] > thresh else \"black\")\n",
    "    plt.tight_layout()\n",
    "    plt.ylabel('True label')\n",
    "    plt.xlabel('Predicted label')\n",
    "    plt.show()"
   ]
  },
  {
   "cell_type": "code",
   "execution_count": 2,
   "id": "d5236dac-e0c3-47f2-9ab3-2506cec4a43d",
   "metadata": {},
   "outputs": [],
   "source": [
    "##########################################################\n",
    "# Include your code to train Ngram taggers here\n",
    "##########################################################\n",
    "\n",
    "\n",
    "valscore = []\n",
    "evalscore = []\n",
    "gap = []\n",
    "\n",
    "for domain in brown.categories():\n",
    "    sentences = brown.tagged_sents(categories=domain, tagset=\"universal\")\n",
    "    valIndex = int(len(sentences) * .7)\n",
    "    tstIndex = int(len(sentences) * .85)\n",
    "    trSents = sentences[:valIndex]\n",
    "    valSents = sentences[valIndex: tstIndex]\n",
    "    tstSents = sentences[tstIndex:]\n",
    "\n",
    "    default = nltk.DefaultTagger('NOUN')\n",
    "    uni = nltk.UnigramTagger(trSents, backoff=default)\n",
    "    bi = nltk.BigramTagger(trSents, backoff=uni)\n",
    "    tri: TrigramTagger = nltk.TrigramTagger(trSents, backoff=bi)\n",
    "    validation = tri.evaluate(valSents)\n",
    "    evaluation = tri.evaluate(tstSents)\n",
    "    valscore.append(validation)\n",
    "    evalscore.append(evaluation)\n",
    "    difference = abs(validation - evaluation)\n",
    "    gap.append(difference)"
   ]
  },
  {
   "cell_type": "code",
   "execution_count": 3,
   "id": "ee3ae7b3-811e-472c-8c86-bc10b6b36f31",
   "metadata": {},
   "outputs": [
    {
     "name": "stdout",
     "output_type": "stream",
     "text": [
      "Domain `learned` is the one with the best evaluation score 0.9282358519029352\n",
      "Domain `humor` is the one with the worst evaluation score 0.8335622710622711\n",
      "Domain `science_fiction` major validation & test gap's score  0.05961170723443199\n"
     ]
    }
   ],
   "source": [
    "print(f\"Domain `{brown.categories()[evalscore.index(max(evalscore))]}` is the one with the best evaluation score {max(evalscore)}\")\n",
    "print(f\"Domain `{brown.categories()[evalscore.index(min(evalscore))]}` is the one with the worst evaluation score {min(evalscore)}\")\n",
    "print(f\"Domain `{brown.categories()[gap.index(max(gap))]}` major validation & test gap's score  {max(gap)}\")"
   ]
  },
  {
   "cell_type": "code",
   "execution_count": 5,
   "id": "e1756e3f-73fd-479e-a020-d3454ac8093b",
   "metadata": {},
   "outputs": [
    {
     "data": {
      "image/png": "[encoded data removed]",
      "text/plain": [
       "<Figure size 432x288 with 1 Axes>"
      ]
     },
     "metadata": {
      "needs_background": "light"
     },
     "output_type": "display_data"
    }
   ],
   "source": [
    "\n",
    "##########################################################\n",
    "# Include your code to train Ngram taggers here\n",
    "##########################################################\n",
    "\n",
    "# convert test to the correct data format (a flat list of tags)\n",
    "test_tags_combined = []\n",
    "for sentence in tstSents:\n",
    "    for word,tag in sentence:\n",
    "        test_tags_combined.append(tag)\n",
    "\n",
    "# remove the tags from the original test data and use tag_sents() to get the predictions from the final model\n",
    "\n",
    "rawtest = []\n",
    "for sentence in tstSents:\n",
    "    onlywords = []\n",
    "    for word,tag in sentence:\n",
    "        onlywords.append(word)\n",
    "    rawtest.append(onlywords)\n",
    "\n",
    "predictions = tri.tag_sents(rawtest)\n",
    "\n",
    "# convert the predictions to the correct data format (a flat list of predicted tags)\n",
    "comb_tags = []\n",
    "for sentence in predictions:\n",
    "    for word,tag in sentence:\n",
    "        comb_tags.append(tag)\n",
    "\n",
    "# get a set of the labels (sorted(set(test)))\n",
    "uniquelabels = (sorted(set(test_tags_combined)))\n",
    "\n",
    "# create the confusion matrix and plot it using the plot_confusion_matrix function\n",
    "result = confusion_matrix(test_tags_combined, comb_tags, labels = uniquelabels)\n",
    "plot_confusion_matrix(result,labels=uniquelabels)"
   ]
  },
  {
   "cell_type": "code",
   "execution_count": null,
   "id": "7eda8d5c-dd7b-4b79-b331-367e0fc33009",
   "metadata": {},
   "outputs": [],
   "source": []
  },
  {
   "cell_type": "code",
   "execution_count": null,
   "id": "f04ad3d7-38d4-4486-b643-23acda26b9e5",
   "metadata": {},
   "outputs": [],
   "source": []
  }
 ],
 "metadata": {
  "kernelspec": {
   "display_name": "Python 3 (ipykernel)",
   "language": "python",
   "name": "python3"
  },
  "language_info": {
   "codemirror_mode": {
    "name": "ipython",
    "version": 3
   },
   "file_extension": ".py",
   "mimetype": "text/x-python",
   "name": "python",
   "nbconvert_exporter": "python",
   "pygments_lexer": "ipython3",
   "version": "3.9.7"
  }
 },
 "nbformat": 4,
 "nbformat_minor": 5
}
