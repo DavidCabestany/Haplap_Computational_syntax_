{
 "cells": [
  {
   "cell_type": "markdown",
   "metadata": {},
   "source": [
    "**Exercise 1: Train a simple trigram language model**\n",
    "---\n",
    "\n",
    "-----\n",
    "\n",
    "In the first exercise, we´ll save the counts directly in a dictionary\n",
    " which defaults to the smoothing factor (_note that this is not true smoothing\n",
    " as it does not account for the denominator and therefore does not create a\n",
    " true probability distribution, but it is enough to get started_)"
   ]
  },
  {
   "cell_type": "code",
   "execution_count": 1,
   "metadata": {},
   "outputs": [],
   "source": [
    "import nltk\n",
    "from collections import defaultdict\n",
    "import numpy as np\n",
    "import nltk.corpus\n",
    "from nltk.corpus import brown\n",
    "\n",
    "import numpy as np\n",
    "\n",
    "# choose a small smoothing factor\n",
    "smoothing_factor = 0.001\n",
    "counts = defaultdict(lambda: defaultdict(lambda: smoothing_factor))"
   ]
  },
  {
   "cell_type": "markdown",
   "metadata": {},
   "source": [
    "We'll also define two helper functions, one to get the log probability of\n",
    "a single trigram and the second to get the log probability of a full sentence"
   ]
  },
  {
   "cell_type": "code",
   "execution_count": 2,
   "metadata": {},
   "outputs": [],
   "source": [
    "def logP(u, v, w):\n",
    "    \"\"\"\n",
    "    Compute the log probability of a specific trigram\n",
    "    \"\"\"\n",
    "    return np.log(counts[(u, v)][w]) - np.log(sum(counts[(u, v)]. values()))\n",
    "\n",
    "\n",
    "def sentence_logP(S):\n",
    "    \"\"\"\n",
    "    Adds the special tokens to the beginning and end.\n",
    "    Then calculates the sum of log probabilities of\n",
    "    all trigrams in the sentence.\n",
    "    \"\"\"\n",
    "    tokens = ['*', '*'] + S + ['STOP']\n",
    "    return sum([logP(u, v, w) for u, v, w in nltk.ngrams(tokens, 3)])"
   ]
  },
  {
   "cell_type": "markdown",
   "metadata": {},
   "source": [
    "We then choose the corpus. We'll use the preprocessed Brown corpus (nltk.corpus.brown), which contains many domains.\n",
    "To see the domains, you can run brown.categories(). We also split this into train, dev, and test sets, which we will use throughout."
   ]
  },
  {
   "cell_type": "code",
   "execution_count": 3,
   "metadata": {},
   "outputs": [],
   "source": [
    "sentences = brown.sents(categories='news')\n",
    "dev_idx = int(len(sentences) * .7)\n",
    "test_idx = int(len(sentences) * .8)\n",
    "train = sentences[:dev_idx]\n",
    "dev = sentences[dev_idx:test_idx]\n",
    "test = sentences[test_idx:]"
   ]
  },
  {
   "cell_type": "markdown",
   "metadata": {},
   "source": [
    "Finally, we'll collect the counts in the dictionary we set up before."
   ]
  },
  {
   "cell_type": "code",
   "execution_count": 4,
   "metadata": {},
   "outputs": [],
   "source": [
    "for sentence in train:\n",
    "    # add the special tokens to the sentences\n",
    "    tokens = ['*', '*'] + sentence + ['STOP ']\n",
    "    for u, v, w in nltk.ngrams(tokens, 3):\n",
    "        # update the counts\n",
    "        counts[(u, v)][w] += 1"
   ]
  },
  {
   "cell_type": "code",
   "execution_count": 5,
   "metadata": {},
   "outputs": [
    {
     "name": "stdout",
     "output_type": "stream",
     "text": [
      "-42.70140049292593\n"
     ]
    }
   ],
   "source": [
    "# Now that we have the model we can use it\n",
    "print(sentence_logP(\"what is the best sentence ?\".split()))"
   ]
  },
  {
   "cell_type": "markdown",
   "metadata": {},
   "source": [
    "**Exercise 2: (3-5 minutes) **\n",
    "---\n",
    "\n",
    "-----\n",
    "\n",
    "**Try and find the sentence (len > 10 tokens) with the highest probability**\n",
    "\n",
    "1. What is the sentence with the highest probability you could find?\n",
    "2. What is it's log probability?"
   ]
  },
  {
   "cell_type": "markdown",
   "metadata": {},
   "source": [
    "**Exercise 3: Function for trigram model, define perplexity, find the best train domain (15-20 minutes) **\n",
    "---\n",
    "\n",
    "-----"
   ]
  },
  {
   "cell_type": "markdown",
   "metadata": {},
   "source": [
    "First, you'll need to define a function to train the trigram models. It should return the same kind of counts dictionary as in Exercise 1."
   ]
  },
  {
   "cell_type": "code",
   "execution_count": 6,
   "metadata": {},
   "outputs": [],
   "source": [
    "\n",
    "def estimate_lm(corpus, smoothing_factor=0.001):\n",
    "    \"\"\"This function takes a corpus and returns a trigram model (counts) trained on the corpus \"\"\"\n",
    "    \n",
    "    # Finish the code here"
   ]
  },
  {
   "cell_type": "markdown",
   "metadata": {},
   "source": [
    "Now, you'll need to define a function to measure perplexity, which is defined as the exp(total negative log likelihood / total_number_of_tokens). See https://web.stanford.edu/~jurafsky/slp3/3.pdf for more info.\n",
    "\n",
    "Luckily, we already have a function to get the log likelihood of a sentence (sentence_logP). So we can iterate over the sentences in a corpus, summing the log probability of each sentence, and keeping track of the total number of tokens. Finally, you can get the NEGATIVE log likelihood and average this, finally using np.exp to exponentiate the previous result."
   ]
  },
  {
   "cell_type": "code",
   "execution_count": 7,
   "metadata": {},
   "outputs": [],
   "source": [
    "def perplexity(corpus):\n",
    "    \"\"\"\n",
    "    Perplexity is defined as the exponentiated average negative log-likelihood of a sequence. \n",
    "    \"\"\"\n",
    "    total_log_likelihood = 0\n",
    "    total_token_count = 0\n",
    "    \n",
    "    # Finish the code here"
   ]
  },
  {
   "cell_type": "code",
   "execution_count": 8,
   "metadata": {},
   "outputs": [],
   "source": [
    "test_data = [[\"I'm\", 'not', 'giving', 'you', 'a', 'chance', ',', 'Bill', ',', 'but', 'availing', 'myself', 'of', 'your', 'generous', 'offer', 'of', 'assistance', '.'], ['Good', 'luck', 'to', 'you', \"''\", '.'], ['``', 'All', 'the', 'in-laws', 'have', 'got', 'to', 'have', 'their', 'day', \"''\", ',', 'Adam', 'said', ',', 'and', 'glared', 'at', 'William', 'and', 'Freddy', 'in', 'turn', '.'], ['Sweat', 'started', 'out', 'on', \"William's\", 'forehead', ',', 'whether', 'from', 'relief', 'or', 'disquietude', 'he', 'could', 'not', 'tell', '.'], ['Across', 'the', 'table', ',', 'Hamrick', 'saluted', 'him', 'jubilantly', 'with', 'an', 'encircled', 'thumb', 'and', 'forefinger', '.'], ['Nobody', 'else', 'showed', 'pleasure', '.'], ['Spike-haired', ',', 'burly', ',', 'red-faced', ',', 'decked', 'with', 'horn-rimmed', 'glasses', 'and', 'an', 'Ivy', 'League', 'suit', ',', 'Jack', 'Hamrick', 'awaited', 'William', 'at', 'the', \"officers'\", 'club', '.'], ['``', 'Hello', ',', 'boss', \"''\", ',', 'he', 'said', ',', 'and', 'grinned', '.'], ['``', 'I', 'suppose', 'I', 'can', 'never', 'expect', 'to', 'call', 'you', \"'\", 'General', \"'\", 'after', 'that', 'Washington', 'episode', \"''\", '.'], ['``', \"I'm\", 'afraid', 'not', \"''\", '.']]"
   ]
  },
  {
   "cell_type": "markdown",
   "metadata": {},
   "source": [
    "Finally, use *estimate_lm()* to train LMs on each domain in brown.categories() and \n",
    "find which gives the lowest perplexity on test_data. \n",
    "\n",
    "1. Which domain gives the best perplexity?\n",
    "2. Can you think of a way to use language models to predict domain?"
   ]
  },
  {
   "cell_type": "code",
   "execution_count": 9,
   "metadata": {},
   "outputs": [],
   "source": [
    "for domain in brown.categories():\n",
    "    train = brown.sents(categories=domain)\n",
    "    \n",
    "    # Finish the code here"
   ]
  },
  {
   "cell_type": "markdown",
   "metadata": {},
   "source": [
    "**Exercise 4: Generation **\n",
    "---\n",
    "\n",
    "-----"
   ]
  },
  {
   "cell_type": "markdown",
   "metadata": {},
   "source": [
    "For the next exercise, you will need to generate 10 sentences for each domain in the Brown corpus. The first thing we need is code to be able to sample the next word in a trigram. We'll do this by creating a probability distribution over the values in our trigram counts. Remember that each key in the dictionary is a tuple (u, v) and that the values is another dictionary with the count of the continuation w: count. Therefore, we can create a numpy array with the continuation values and divide by the sum of values to get a distribution. Finally, we can use np.random.multinomial to sample from this distribution."
   ]
  },
  {
   "cell_type": "code",
   "execution_count": 10,
   "metadata": {},
   "outputs": [],
   "source": [
    "def sample_next_word(u, v):\n",
    "    keys, values = zip(* counts[(u, v)]. items())\n",
    "    # convert values to np.array\n",
    "    values = np.array(values)\n",
    "    # divide by sum to create prob. distribution\n",
    "    values /= values.sum()  \n",
    "    # return the key (continuation token) for the sample with the highest probability\n",
    "    return keys[np.argmax(np.random.multinomial(1, values))]  \n"
   ]
  },
  {
   "cell_type": "markdown",
   "metadata": {},
   "source": [
    "Now we can create a function that will generate text using our trigram model. You will need to start out with the two special tokens we used to train the model, and continue adding to this output, sampling the next word at each timestep. If the word sampled is the end token ('STOP'), then stop the generation and return the sequence as a string."
   ]
  },
  {
   "cell_type": "code",
   "execution_count": 11,
   "metadata": {},
   "outputs": [],
   "source": [
    "def generate():\n",
    "    \"\"\"\n",
    "    Sequentially generates text using sample_next_word().\n",
    "    When the token generated is 'STOP', it returns the generated tokens as a string,\n",
    "    removing the start and end special tokens.\n",
    "    \"\"\"\n",
    "    result = ['*', '*']\n",
    "    \n",
    "    # Finish the code here"
   ]
  },
  {
   "cell_type": "markdown",
   "metadata": {},
   "source": [
    "Finally, use the code above to generate 10 sentences per domain in the Brown corpus.\n",
    "\n",
    "1. Do you see any correlation between perplexity scores and generated text?"
   ]
  },
  {
   "cell_type": "markdown",
   "metadata": {},
   "source": [
    "**Exercise 5: Smoothing **\n",
    "---\n",
    "\n",
    "-----"
   ]
  },
  {
   "cell_type": "markdown",
   "metadata": {},
   "source": [
    "So far, we have been using a kind of stupid smoothing technique, giving up entirely on computing an actual probability distribution. For this section, let's implement a correct version of Laplace smoothing. You'll need to keep track of the vocabulary as well, and don't forget to add the special tokens."
   ]
  },
  {
   "cell_type": "code",
   "execution_count": 12,
   "metadata": {},
   "outputs": [],
   "source": [
    "def estimate_lm_smoothed(corpus, alpha=1):\n",
    "    counts = defaultdict(lambda: defaultdict(lambda: alpha))\n",
    "    vocab = set()\n",
    "    \n",
    "    # Finish the code here\n",
    "\n",
    "    return counts, vocab"
   ]
  },
  {
   "cell_type": "markdown",
   "metadata": {},
   "source": [
    "The main change is not in how we estimate the counts, but in how we calculate log probability for each trigram.\n",
    "Specifically, we need to add the size_of_the_vocabulary * alpha to the denominator."
   ]
  },
  {
   "cell_type": "code",
   "execution_count": 13,
   "metadata": {},
   "outputs": [],
   "source": [
    "def logP_smoothed(u, v, w, V, alpha=1):\n",
    "    # Finish the code here\n",
    "    pass\n",
    "\n",
    "def sentence_logP_smoothed(S, V, alpha=1):\n",
    "    \"\"\"\n",
    "    Adds the special tokens to the beginning and end.\n",
    "    Then calculates the sum of log probabilities of\n",
    "    all trigrams in the sentence using logP_smoothed.\n",
    "    \"\"\"\n",
    "    # Finish the code here\n",
    "    pass\n",
    "\n",
    "def perplexity_smoothed(corpus, V, alpha=1):\n",
    "    \"\"\"\n",
    "    Perplexity is defined as the exponentiated average negative log-likelihood of a sequence. In this case, we approximate perplexity over the full corpus as an average of sentence-wise perplexity scores.\n",
    "    \"\"\"\n",
    "    # Finish the code here\n",
    "    pass"
   ]
  },
  {
   "cell_type": "markdown",
   "metadata": {},
   "source": [
    "Now train s_counts and vocab and compare perplexity with the original version on the heldout test set."
   ]
  },
  {
   "cell_type": "markdown",
   "metadata": {},
   "source": [
    "**Exercise 6: Interpolation**\n",
    "---\n",
    "\n",
    "-----"
   ]
  },
  {
   "cell_type": "markdown",
   "metadata": {},
   "source": [
    "To be able to interpolate unigram, bigram, and trigram models, we first need to train them. So here you need to make a function that takes 1) a corpus and 2) an n-gram (1,2,3) and 3) a smoothing factor and returns the counts and vocabulary. Notice that for the unigram model, you will have to set up the dictionary in a different way than we have done until now."
   ]
  },
  {
   "cell_type": "code",
   "execution_count": 14,
   "metadata": {},
   "outputs": [],
   "source": [
    "def estimate_ngram(corpus, N=3, smoothing_factor=1):\n",
    "    vocab = set(['*', 'STOP'])\n",
    "    if N > 1:\n",
    "        # set up the counts like before\n",
    "        counts = None\n",
    "    else:\n",
    "        # set them up as necessary for the unigram model\n",
    "        counts = None\n",
    "        \n",
    "    # Finish the code here\n",
    "    return counts, vocab"
   ]
  },
  {
   "cell_type": "markdown",
   "metadata": {},
   "source": [
    "You will also need separate functions to get the log probability for each ngram."
   ]
  },
  {
   "cell_type": "code",
   "execution_count": 15,
   "metadata": {},
   "outputs": [],
   "source": [
    "def logP_trigram(counts, u, v, w, vocab, alpha=1):\n",
    "    # Finish the code here\n",
    "    pass\n",
    "\n",
    "\n",
    "def logP_bigram(counts, u, v, vocab, alpha=1):\n",
    "    # Finish the code here\n",
    "    pass\n",
    "\n",
    "def logP_unigram(counts, u, vocab, alpha=1):\n",
    "    # Finish the code here\n",
    "    pass\n",
    "\n"
   ]
  },
  {
   "cell_type": "markdown",
   "metadata": {},
   "source": [
    "In this case, the main change is in calculating the log probability of the sentence. "
   ]
  },
  {
   "cell_type": "code",
   "execution_count": 16,
   "metadata": {},
   "outputs": [],
   "source": [
    "def sentence_interpolated_logP(S, vocab, uni_counts, bi_counts, tri_counts, lambdas=[0.5, 0.3, 0.2]):\n",
    "    tokens = ['*', '*'] + S + ['STOP']\n",
    "    prob = 0\n",
    "    for u, v, w in nltk.ngrams(tokens, 3):\n",
    "        # Finish the code here\n",
    "        # Calculate the log probabilities for each ngram and then multiply them by the lambdas and sum them.\n",
    "        pass\n",
    "    return prob\n",
    "\n",
    "def interpolated_perplexity(corpus, vocab, uni_counts, bi_counts, tri_counts, smoothing_factor=1, lambdas=[0.5, 0.3, 0.2]):\n",
    "    \"\"\"\n",
    "    Perplexity is defined as the exponentiated average negative log-likelihood of a sequence. \n",
    "    In this case, we approximate perplexity over the full corpus as an average of sentence-wise perplexity scores.\n",
    "    \"\"\"\n",
    "    p = 0\n",
    "    # Finish the code here\n",
    "    \n",
    "    pass\n"
   ]
  },
  {
   "cell_type": "markdown",
   "metadata": {},
   "source": [
    "Finally, train unigram, bigram, and trigram models and computer the perplexity of the interpolated model on the test set."
   ]
  },
  {
   "cell_type": "markdown",
   "metadata": {},
   "source": [
    "**Exercise 7: Build a simple spelling corrector**\n",
    "---\n",
    "\n",
    "-----"
   ]
  },
  {
   "cell_type": "markdown",
   "metadata": {},
   "source": [
    "In this section, we will build a simple spelling corrector with two components: 1) a dictionary of common spelling errors which will allow us to create possible hypothesis sentences and 2) a language model to filter the most likely sentence."
   ]
  },
  {
   "cell_type": "code",
   "execution_count": 17,
   "metadata": {},
   "outputs": [],
   "source": [
    "common_errors = {\"ei\": \"ie\",  # acheive: achieve\n",
    "                 \"ie\": \"ei\",  # recieve: receive\n",
    "                 \"ant\": \"ent\",  # apparant: apparent\n",
    "                 \"m\": \"mm\",  # accomodate: accommodate\n",
    "                 \"s\": \"ss\",  # profesional: professional\n",
    "                 \"teh\": \"the\",\n",
    "                 \"too\": \"to\",\n",
    "                 \"their\": \"there\",\n",
    "                 \"there\": \"they're\"\n",
    "                 }"
   ]
  },
  {
   "cell_type": "code",
   "execution_count": 18,
   "metadata": {},
   "outputs": [],
   "source": [
    "test_set = [\"I do not know who recieved it\".split(),\n",
    "            \"That is not profesional\".split(),\n",
    "            \"we saw teh man running\".split(),\n",
    "            \"We tried too help them\".split(),\n",
    "            ]"
   ]
  },
  {
   "cell_type": "markdown",
   "metadata": {},
   "source": [
    "For the spell checker,"
   ]
  },
  {
   "cell_type": "code",
   "execution_count": 19,
   "metadata": {},
   "outputs": [],
   "source": [
    "def spell_check(sent, common_errors):\n",
    "    sents = []\n",
    "    probs = []\n",
    "    sents.append(sent)\n",
    "    probs.append(sentence_logP(sent))\n",
    "    \n",
    "    # create new hypothesis sentences by recursively applying all possible spelling mistakes to \n",
    "    # each token in the sentence. If the new sentence is not the same as the original, append\n",
    "    # it to sents and compute its probability and append it to probs.\n",
    "    for i, token in enumerate(sent):\n",
    "        for error, correct in common_errors.items():\n",
    "            \n",
    "            # Finish the code here\n",
    "            pass\n",
    "        \n",
    "    # Finally take the argmax of the probabilities and return that sentence\n",
    "    max_i = np.argmax(probs)\n",
    "    return sents[max_i], probs[max_i]"
   ]
  },
  {
   "cell_type": "markdown",
   "metadata": {},
   "source": [
    "It would be a good idea to retrain your langauge model on all of the Brown sentences (brown.sents()) in order to improve it's recall.\n",
    "\n",
    "1. After retraining, do you notice any differences?"
   ]
  },
  {
   "cell_type": "code",
   "execution_count": null,
   "metadata": {},
   "outputs": [],
   "source": []
  },
  {
   "cell_type": "code",
   "execution_count": null,
   "metadata": {},
   "outputs": [],
   "source": []
  },
  {
   "cell_type": "code",
   "execution_count": null,
   "metadata": {},
   "outputs": [],
   "source": []
  },
  {
   "cell_type": "code",
   "execution_count": null,
   "metadata": {},
   "outputs": [],
   "source": []
  },
  {
   "cell_type": "code",
   "execution_count": null,
   "metadata": {},
   "outputs": [],
   "source": []
  },
  {
   "cell_type": "code",
   "execution_count": null,
   "metadata": {},
   "outputs": [],
   "source": []
  },
  {
   "cell_type": "code",
   "execution_count": null,
   "metadata": {},
   "outputs": [],
   "source": []
  },
  {
   "cell_type": "code",
   "execution_count": null,
   "metadata": {},
   "outputs": [],
   "source": []
  },
  {
   "cell_type": "code",
   "execution_count": null,
   "metadata": {},
   "outputs": [],
   "source": []
  }
 ],
 "metadata": {
  "kernelspec": {
   "display_name": "Python 3 (ipykernel)",
   "language": "python",
   "name": "python3"
  },
  "language_info": {
   "codemirror_mode": {
    "name": "ipython",
    "version": 3
   },
   "file_extension": ".py",
   "mimetype": "text/x-python",
   "name": "python",
   "nbconvert_exporter": "python",
   "pygments_lexer": "ipython3",
   "version": "3.9.7"
  }
 },
 "nbformat": 4,
 "nbformat_minor": 4
}
